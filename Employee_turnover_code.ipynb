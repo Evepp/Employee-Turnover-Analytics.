{
 "cells": [
  {
   "cell_type": "code",
   "execution_count": 1,
   "id": "7f530479",
   "metadata": {},
   "outputs": [],
   "source": [
    "#importing necessary packages\n",
    "import pandas as pd"
   ]
  },
  {
   "cell_type": "code",
   "execution_count": 2,
   "id": "392f326c",
   "metadata": {},
   "outputs": [],
   "source": [
    "#URL of the raw CSV file in Github\n",
    "csv_url = 'https://raw.githubusercontent.com/Evepp/Employee-Turnover-Analytics./main/HR_comma_sep.csv'"
   ]
  },
  {
   "cell_type": "code",
   "execution_count": 3,
   "id": "e4f5ac22",
   "metadata": {},
   "outputs": [],
   "source": [
    "df = pd.read_csv(csv_url)"
   ]
  },
  {
   "cell_type": "code",
   "execution_count": 4,
   "id": "a76ac257",
   "metadata": {},
   "outputs": [
    {
     "name": "stdout",
     "output_type": "stream",
     "text": [
      "   satisfaction_level  last_evaluation  number_project  average_montly_hours  \\\n",
      "0                0.38             0.53               2                   157   \n",
      "1                0.80             0.86               5                   262   \n",
      "2                0.11             0.88               7                   272   \n",
      "3                0.72             0.87               5                   223   \n",
      "4                0.37             0.52               2                   159   \n",
      "\n",
      "   time_spend_company  Work_accident  left  promotion_last_5years  sales  \\\n",
      "0                   3              0     1                      0  sales   \n",
      "1                   6              0     1                      0  sales   \n",
      "2                   4              0     1                      0  sales   \n",
      "3                   5              0     1                      0  sales   \n",
      "4                   3              0     1                      0  sales   \n",
      "\n",
      "   salary  \n",
      "0     low  \n",
      "1  medium  \n",
      "2  medium  \n",
      "3     low  \n",
      "4     low  \n"
     ]
    }
   ],
   "source": [
    "print(df.head())"
   ]
  },
  {
   "cell_type": "code",
   "execution_count": null,
   "id": "7fff3d0b",
   "metadata": {},
   "outputs": [],
   "source": []
  }
 ],
 "metadata": {
  "kernelspec": {
   "display_name": "Python 3 (ipykernel)",
   "language": "python",
   "name": "python3"
  },
  "language_info": {
   "codemirror_mode": {
    "name": "ipython",
    "version": 3
   },
   "file_extension": ".py",
   "mimetype": "text/x-python",
   "name": "python",
   "nbconvert_exporter": "python",
   "pygments_lexer": "ipython3",
   "version": "3.9.12"
  }
 },
 "nbformat": 4,
 "nbformat_minor": 5
}
