{
 "cells": [
  {
   "cell_type": "code",
   "execution_count": 28,
   "id": "7f530479",
   "metadata": {},
   "outputs": [],
   "source": [
    "#importing necessary packages\n",
    "import pandas\n",
    "from upload_data import read_data"
   ]
  },
  {
   "cell_type": "code",
   "execution_count": 29,
   "id": "4dc4e459",
   "metadata": {},
   "outputs": [
    {
     "name": "stdout",
     "output_type": "stream",
     "text": [
      "   satisfaction_level  last_evaluation  number_project  average_montly_hours  \\\n",
      "0                0.38             0.53               2                   157   \n",
      "1                0.80             0.86               5                   262   \n",
      "2                0.11             0.88               7                   272   \n",
      "3                0.72             0.87               5                   223   \n",
      "4                0.37             0.52               2                   159   \n",
      "\n",
      "   time_spend_company  Work_accident  left  promotion_last_5years  sales  \\\n",
      "0                   3              0     1                      0  sales   \n",
      "1                   6              0     1                      0  sales   \n",
      "2                   4              0     1                      0  sales   \n",
      "3                   5              0     1                      0  sales   \n",
      "4                   3              0     1                      0  sales   \n",
      "\n",
      "   salary  \n",
      "0     low  \n",
      "1  medium  \n",
      "2  medium  \n",
      "3     low  \n",
      "4     low  \n"
     ]
    }
   ],
   "source": [
    "df= read_data('https://raw.githubusercontent.com/Evepp/Employee-Turnover-Analytics./main/HR_comma_sep.csv')\n",
    "print(df.head())"
   ]
  },
  {
   "cell_type": "markdown",
   "id": "694749bc",
   "metadata": {},
   "source": [
    "# Exploratory Data Analysis \n"
   ]
  },
  {
   "cell_type": "code",
   "execution_count": null,
   "id": "7fff3d0b",
   "metadata": {},
   "outputs": [],
   "source": []
  },
  {
   "cell_type": "markdown",
   "id": "2156ca68",
   "metadata": {},
   "source": [
    "# Clustering of Employees \n"
   ]
  },
  {
   "cell_type": "markdown",
   "id": "ee7d5f62",
   "metadata": {},
   "source": []
  },
  {
   "cell_type": "markdown",
   "id": "58f69195",
   "metadata": {},
   "source": [
    "# Class Imbalance with SMOTE"
   ]
  },
  {
   "cell_type": "code",
   "execution_count": null,
   "id": "e7694b1e",
   "metadata": {},
   "outputs": [],
   "source": []
  },
  {
   "cell_type": "markdown",
   "id": "0aa0ec57",
   "metadata": {},
   "source": [
    "# k-fold cross-validation model training"
   ]
  },
  {
   "cell_type": "code",
   "execution_count": null,
   "id": "9b069134",
   "metadata": {},
   "outputs": [],
   "source": []
  },
  {
   "cell_type": "markdown",
   "id": "f205032a",
   "metadata": {},
   "source": [
    "# Retention strategies for targeted employees\n"
   ]
  },
  {
   "cell_type": "markdown",
   "id": "c35c3147",
   "metadata": {},
   "source": []
  }
 ],
 "metadata": {
  "kernelspec": {
   "display_name": "Python 3 (ipykernel)",
   "language": "python",
   "name": "python3"
  },
  "language_info": {
   "codemirror_mode": {
    "name": "ipython",
    "version": 3
   },
   "file_extension": ".py",
   "mimetype": "text/x-python",
   "name": "python",
   "nbconvert_exporter": "python",
   "pygments_lexer": "ipython3",
   "version": "3.12.4"
  }
 },
 "nbformat": 4,
 "nbformat_minor": 5
}
