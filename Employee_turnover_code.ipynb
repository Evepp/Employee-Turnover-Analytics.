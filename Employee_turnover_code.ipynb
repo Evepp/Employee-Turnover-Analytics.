{
 "cells": [
  {
   "cell_type": "code",
   "execution_count": 15,
   "id": "7f530479",
   "metadata": {},
   "outputs": [],
   "source": [
    "#importing necessary packages\n",
    "\n",
    "from read_data import read_data"
   ]
  },
  {
   "cell_type": "code",
   "execution_count": 16,
   "id": "4dc4e459",
   "metadata": {},
   "outputs": [
    {
     "ename": "NameError",
     "evalue": "name 'pd' is not defined",
     "output_type": "error",
     "traceback": [
      "\u001b[0;31m---------------------------------------------------------------------------\u001b[0m",
      "\u001b[0;31mNameError\u001b[0m                                 Traceback (most recent call last)",
      "Cell \u001b[0;32mIn[16], line 1\u001b[0m\n\u001b[0;32m----> 1\u001b[0m df\u001b[38;5;241m=\u001b[39m read_data(\u001b[38;5;124m'\u001b[39m\u001b[38;5;124mhttps://raw.githubusercontent.com/Evepp/Employee-Turnover-Analytics./main/HR_comma_sep.csv\u001b[39m\u001b[38;5;124m'\u001b[39m)\n\u001b[1;32m      2\u001b[0m df\u001b[38;5;241m.\u001b[39mhead()\n",
      "File \u001b[0;32m~/GitHub/Employee-Turnover-Analytics./read_data.py:4\u001b[0m, in \u001b[0;36mread_data\u001b[0;34m(link)\u001b[0m\n\u001b[1;32m      1\u001b[0m \u001b[38;5;28;01mdef\u001b[39;00m \u001b[38;5;21mread_data\u001b[39m(link):\n\u001b[1;32m      2\u001b[0m     \u001b[38;5;66;03m#URL of the raw CSV file in Github and return in df\u001b[39;00m\n\u001b[1;32m      3\u001b[0m     csv_url \u001b[38;5;241m=\u001b[39m link\n\u001b[0;32m----> 4\u001b[0m     df \u001b[38;5;241m=\u001b[39m pd\u001b[38;5;241m.\u001b[39mread_csv(csv_url)\n\u001b[1;32m      5\u001b[0m     \u001b[38;5;28;01mreturn\u001b[39;00m df\n",
      "\u001b[0;31mNameError\u001b[0m: name 'pd' is not defined"
     ]
    }
   ],
   "source": [
    "df= read_data('https://raw.githubusercontent.com/Evepp/Employee-Turnover-Analytics./main/HR_comma_sep.csv')\n",
    "df.head()"
   ]
  },
  {
   "cell_type": "markdown",
   "id": "694749bc",
   "metadata": {},
   "source": [
    "# Exploratory Data Analysis \n"
   ]
  },
  {
   "cell_type": "code",
   "execution_count": null,
   "id": "7fff3d0b",
   "metadata": {},
   "outputs": [],
   "source": []
  },
  {
   "cell_type": "markdown",
   "id": "2156ca68",
   "metadata": {},
   "source": [
    "# Clustering of Employees \n"
   ]
  },
  {
   "cell_type": "markdown",
   "id": "ee7d5f62",
   "metadata": {},
   "source": []
  },
  {
   "cell_type": "markdown",
   "id": "58f69195",
   "metadata": {},
   "source": [
    "# Class Imbalance with SMOTE"
   ]
  },
  {
   "cell_type": "code",
   "execution_count": null,
   "id": "e7694b1e",
   "metadata": {},
   "outputs": [],
   "source": []
  },
  {
   "cell_type": "markdown",
   "id": "0aa0ec57",
   "metadata": {},
   "source": [
    "# k-fold cross-validation model training"
   ]
  },
  {
   "cell_type": "code",
   "execution_count": null,
   "id": "9b069134",
   "metadata": {},
   "outputs": [],
   "source": []
  },
  {
   "cell_type": "markdown",
   "id": "f205032a",
   "metadata": {},
   "source": [
    "# Retention strategies for targeted employees\n"
   ]
  },
  {
   "cell_type": "markdown",
   "id": "c35c3147",
   "metadata": {},
   "source": []
  }
 ],
 "metadata": {
  "kernelspec": {
   "display_name": "Python 3 (ipykernel)",
   "language": "python",
   "name": "python3"
  },
  "language_info": {
   "codemirror_mode": {
    "name": "ipython",
    "version": 3
   },
   "file_extension": ".py",
   "mimetype": "text/x-python",
   "name": "python",
   "nbconvert_exporter": "python",
   "pygments_lexer": "ipython3",
   "version": "3.12.4"
  }
 },
 "nbformat": 4,
 "nbformat_minor": 5
}
